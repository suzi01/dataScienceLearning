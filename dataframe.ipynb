{
 "cells": [
  {
   "cell_type": "code",
   "execution_count": 5,
   "metadata": {},
   "outputs": [
    {
     "name": "stdout",
     "output_type": "stream",
     "text": [
      "      Sex  Age eyeColor favouriteFruit\n",
      "0    Male   23     Blue          Apple\n",
      "1    Male   65    Brown         Banana\n",
      "2  Female   44    Brown         Grapes\n",
      "3  Female   36    Green     Watermelon\n",
      "             Sex  Age eyeColor favouriteFruit\n",
      "James       Male   23     Blue          Apple\n",
      "Andrew      Male   65    Brown         Banana\n",
      "Michelle  Female   44    Brown         Grapes\n",
      "Tori      Female   36    Green     Watermelon\n"
     ]
    }
   ],
   "source": [
    "import pandas as pd\n",
    "\n",
    "features={'Sex':['Male','Male','Female','Female'],\n",
    "         'Age':[23,65,44,36],\n",
    "         'eyeColor':['Blue','Brown','Brown','Green'],\n",
    "         'favouriteFruit':['Apple','Banana','Grapes','Watermelon']}\n",
    "\n",
    "df=pd.DataFrame(features)\n",
    "print(df)\n",
    "\n",
    "#['James','Andrew','Michelle','Tori']\n",
    "\n",
    "df.index = ['James','Andrew','Michelle','Tori']\n",
    "print(df)"
   ]
  }
 ],
 "metadata": {
  "kernelspec": {
   "display_name": "Python 3",
   "language": "python",
   "name": "python3"
  },
  "language_info": {
   "codemirror_mode": {
    "name": "ipython",
    "version": 3
   },
   "file_extension": ".py",
   "mimetype": "text/x-python",
   "name": "python",
   "nbconvert_exporter": "python",
   "pygments_lexer": "ipython3",
   "version": "3.7.6"
  }
 },
 "nbformat": 4,
 "nbformat_minor": 4
}
